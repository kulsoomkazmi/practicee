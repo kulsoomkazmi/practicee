{
 "cells": [
  {
   "cell_type": "code",
   "execution_count": 3,
   "metadata": {},
   "outputs": [],
   "source": [
    "#Given a two list. Create a third list by picking an odd-index element from the first list and even index elements from second."
   ]
  },
  {
   "cell_type": "code",
   "execution_count": 4,
   "metadata": {},
   "outputs": [],
   "source": [
    "def modified_list(list1, list2):\n",
    "    list3 = []\n",
    "    a = list1[1::2]\n",
    "    list3.append(a)\n",
    "    \n",
    "    b = list2[::2]\n",
    "    list3.append(b)\n",
    "    \n",
    "    print(list3)"
   ]
  },
  {
   "cell_type": "code",
   "execution_count": 5,
   "metadata": {},
   "outputs": [
    {
     "name": "stdout",
     "output_type": "stream",
     "text": [
      "[[2, 4, 6, 8], [2, 6, 1, 9]]\n"
     ]
    }
   ],
   "source": [
    "modified_list([1,2,3,4,5,6,7,8,9], [2,4,6,8,1,3,9])"
   ]
  },
  {
   "cell_type": "code",
   "execution_count": 6,
   "metadata": {},
   "outputs": [],
   "source": [
    "#exercise Question 2: Given an input list removes the element at index 4 and add it to the 2nd position and also, at the end of the list"
   ]
  },
  {
   "cell_type": "code",
   "execution_count": 16,
   "metadata": {},
   "outputs": [],
   "source": [
    "def update_list(list_1):\n",
    "    poppedList = list_1.pop(4)\n",
    "    list_1.insert(2, poppedList)\n",
    "    list_1.append(poppedList)\n",
    "    print(list_1)\n",
    "    "
   ]
  },
  {
   "cell_type": "code",
   "execution_count": 17,
   "metadata": {},
   "outputs": [
    {
     "name": "stdout",
     "output_type": "stream",
     "text": [
      "[1, 2, 5, 3, 4, 6, 5]\n"
     ]
    }
   ],
   "source": [
    "update_list([1,2,3,4,5,6])"
   ]
  },
  {
   "cell_type": "code",
   "execution_count": 20,
   "metadata": {},
   "outputs": [],
   "source": [
    "#Print all elements of a list using for loop."
   ]
  },
  {
   "cell_type": "code",
   "execution_count": 21,
   "metadata": {},
   "outputs": [
    {
     "name": "stdout",
     "output_type": "stream",
     "text": [
      "1 2 3 4 5 67 8 "
     ]
    }
   ],
   "source": [
    "numbers = [1,2,3,4,5,67,8]\n",
    "for i in numbers:\n",
    "    print(i,end=\" \")"
   ]
  },
  {
   "cell_type": "code",
   "execution_count": 1,
   "metadata": {},
   "outputs": [],
   "source": [
    "#Print multiplication table of 14 from a list in which multiplication table of 12 is stored"
   ]
  },
  {
   "cell_type": "code",
   "execution_count": 7,
   "metadata": {},
   "outputs": [
    {
     "name": "stdout",
     "output_type": "stream",
     "text": [
      "14\n",
      "26\n",
      "38\n",
      "50\n",
      "62\n",
      "74\n",
      "86\n",
      "98\n",
      "110\n",
      "122\n"
     ]
    }
   ],
   "source": [
    "table_of_12 = [12, 24, 36, 48, 60, 72, 84, 96, 108, 120]\n",
    "for i in table_of_12:\n",
    "    print(i + 2)\n"
   ]
  },
  {
   "cell_type": "code",
   "execution_count": 8,
   "metadata": {},
   "outputs": [],
   "source": [
    "#You are given with a list of integer elements. Make a new list which will store square of elements of previous list."
   ]
  },
  {
   "cell_type": "code",
   "execution_count": 31,
   "metadata": {},
   "outputs": [
    {
     "name": "stdout",
     "output_type": "stream",
     "text": [
      "[4, 9, 16, 25, 36, 49, 7921, 81, 49]\n"
     ]
    }
   ],
   "source": [
    "list_of_int = [2, 3, 4, 5, 6, 7, 89, 9, 7]\n",
    "list_of_square = []\n",
    "\n",
    "for i in list_of_int:\n",
    "    c = i**2\n",
    "    list_of_square.append(c)\n",
    "    \n",
    "print(list_of_square)"
   ]
  },
  {
   "cell_type": "code",
   "execution_count": 32,
   "metadata": {},
   "outputs": [],
   "source": [
    "#Using range(1,101), make two list, one containing all even numbers and other containing all odd numbers."
   ]
  },
  {
   "cell_type": "code",
   "execution_count": 42,
   "metadata": {},
   "outputs": [
    {
     "name": "stdout",
     "output_type": "stream",
     "text": [
      "[2, 4, 6, 8, 10, 12, 14, 16, 18, 20, 22, 24, 26, 28, 30, 32, 34, 36, 38, 40, 42, 44, 46, 48, 50, 52, 54, 56, 58, 60, 62, 64, 66, 68, 70, 72, 74, 76, 78, 80, 82, 84, 86, 88, 90, 92, 94, 96, 98, 100]\n",
      "[1, 3, 5, 7, 9, 11, 13, 15, 17, 19, 21, 23, 25, 27, 29, 31, 33, 35, 37, 39, 41, 43, 45, 47, 49, 51, 53, 55, 57, 59, 61, 63, 65, 67, 69, 71, 73, 75, 77, 79, 81, 83, 85, 87, 89, 91, 93, 95, 97, 99]\n"
     ]
    }
   ],
   "source": [
    "list_of_even = []\n",
    "list_of_odd = []\n",
    "\n",
    "for i in range(1,101):\n",
    "    if i % 2 == 0:\n",
    "        list_of_even.append(i)\n",
    "    if i % 2 != 0:\n",
    "        list_of_odd.append(i)\n",
    "        \n",
    "print(list_of_even)\n",
    "\n",
    "print(list_of_odd)"
   ]
  },
  {
   "cell_type": "code",
   "execution_count": 43,
   "metadata": {},
   "outputs": [],
   "source": [
    "#From the two list obtained in previous question, make new lists, containing only numbers which are divisible by 4, 6, 8, 10, 3, 5, 7 and 9 in separate lists"
   ]
  },
  {
   "cell_type": "code",
   "execution_count": 55,
   "metadata": {},
   "outputs": [
    {
     "name": "stdout",
     "output_type": "stream",
     "text": [
      "[4, 8, 12, 16, 20, 24, 28, 32, 36, 40, 44, 48, 52, 56, 60, 64, 68, 72, 76, 80, 84, 88, 92, 96, 100]\n",
      "[6, 12, 18, 24, 30, 36, 42, 48, 54, 60, 66, 72, 78, 84, 90, 96]\n",
      "[8, 16, 24, 32, 40, 48, 56, 64, 72, 80, 88, 96]\n",
      "[10, 20, 30, 40, 50, 60, 70, 80, 90, 100]\n",
      "[3, 9, 15, 21, 27, 33, 39, 45, 51, 57, 63, 69, 75, 81, 87, 93, 99]\n",
      "[5, 15, 25, 35, 45, 55, 65, 75, 85, 95]\n",
      "[7, 21, 35, 49, 63, 77, 91]\n",
      "[9, 27, 45, 63, 81, 99]\n"
     ]
    }
   ],
   "source": [
    "divisible_of_4 = []\n",
    "divisible_of_6 = []\n",
    "divisible_of_8 = []\n",
    "divisible_of_10 = []\n",
    "divisible_of_3 = []\n",
    "divisible_of_5 = []\n",
    "divisible_of_7 = []\n",
    "divisible_of_9 = []\n",
    "\n",
    "\n",
    "\n",
    "for j in list_of_even:\n",
    "    if j % 4 == 0:\n",
    "        divisible_of_4.append(j)\n",
    "    if j % 6 == 0:\n",
    "        divisible_of_6.append(j)\n",
    "    if j % 8 == 0:\n",
    "        divisible_of_8.append(j)\n",
    "    if j % 10 == 0:\n",
    "        divisible_of_10.append(j)\n",
    "for k in list_of_odd:\n",
    "    if k % 3 == 0:\n",
    "        divisible_of_3.append(k)\n",
    "    if k %5 == 0:\n",
    "        divisible_of_5.append(k)\n",
    "    if k % 7 == 0:\n",
    "        divisible_of_7.append(k)\n",
    "    if k % 9 == 0:\n",
    "        divisible_of_9.append(k)\n",
    "print(divisible_of_4)\n",
    "print(divisible_of_6)\n",
    "print(divisible_of_8)\n",
    "print(divisible_of_10)\n",
    "print(divisible_of_3)\n",
    "print(divisible_of_5)\n",
    "print(divisible_of_7)\n",
    "print(divisible_of_9)\n",
    "   "
   ]
  },
  {
   "cell_type": "code",
   "execution_count": null,
   "metadata": {},
   "outputs": [],
   "source": []
  }
 ],
 "metadata": {
  "kernelspec": {
   "display_name": "Python 3",
   "language": "python",
   "name": "python3"
  },
  "language_info": {
   "codemirror_mode": {
    "name": "ipython",
    "version": 3
   },
   "file_extension": ".py",
   "mimetype": "text/x-python",
   "name": "python",
   "nbconvert_exporter": "python",
   "pygments_lexer": "ipython3",
   "version": "3.7.3"
  }
 },
 "nbformat": 4,
 "nbformat_minor": 2
}
