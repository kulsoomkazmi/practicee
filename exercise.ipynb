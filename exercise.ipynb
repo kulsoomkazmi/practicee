{
 "cells": [
  {
   "cell_type": "code",
   "execution_count": 1,
   "metadata": {},
   "outputs": [],
   "source": [
    "#Take 10 integer inputs from user and store them in a list and print them on screen."
   ]
  },
  {
   "cell_type": "code",
   "execution_count": 38,
   "metadata": {},
   "outputs": [
    {
     "name": "stdout",
     "output_type": "stream",
     "text": [
      "Enter numbers: 1\n",
      "Enter numbers: 2\n",
      "Enter numbers: 12\n",
      "Enter numbers: 12\n",
      "Enter numbers: 13\n",
      "Enter numbers: 14\n",
      "Enter numbers: 15\n",
      "Enter numbers: 17\n",
      "Enter numbers: 18\n",
      "Enter numbers: 19\n",
      "['1', '2', '12', '12', '13', '14', '15', '17', '18', '19']\n"
     ]
    }
   ],
   "source": [
    "int_list = []\n",
    "x = 10\n",
    "while x > 0:\n",
    "    integers = input(\"Enter numbers: \")\n",
    "    x -=1\n",
    "    int_list.append(integers)\n",
    "    \n",
    "print(int_list)\n",
    "\n",
    "    "
   ]
  },
  {
   "cell_type": "code",
   "execution_count": 3,
   "metadata": {},
   "outputs": [],
   "source": [
    "#Take 10 integer inputs from user and store them in a list. Again ask user to give a number. Now, tell user whether that number is present in list or not.\n",
    "#( Iterate over list using while loop )."
   ]
  },
  {
   "cell_type": "code",
   "execution_count": 1,
   "metadata": {},
   "outputs": [
    {
     "name": "stdout",
     "output_type": "stream",
     "text": [
      "Enter numbers: 1\n",
      "Enter numbers: 2\n",
      "Enter numbers: 3\n",
      "Enter numbers: 4\n",
      "Enter numbers: 5\n",
      "Enter numbers: 6\n",
      "Enter numbers: 7\n",
      "Enter numbers: 8\n",
      "Enter numbers: 9\n",
      "Enter numbers: 10\n",
      "['1', '2', '3', '4', '5', '6', '7', '8', '9', '10']\n",
      "enter any one number: 10\n",
      "true\n"
     ]
    }
   ],
   "source": [
    "a = []\n",
    "x = 10\n",
    "while x > 0:\n",
    "    num = input(\"Enter numbers: \")\n",
    "    x -=1\n",
    "    a.append(num)\n",
    "print(a)\n",
    "y = input(\"enter any one number: \")\n",
    "if y in num:\n",
    "    print(\"true\")"
   ]
  },
  {
   "cell_type": "code",
   "execution_count": 13,
   "metadata": {},
   "outputs": [],
   "source": [
    "#Take 10 integer inputs from user and store them in a list. Now, copy all the elements in another list but in reverse order.\n"
   ]
  },
  {
   "cell_type": "code",
   "execution_count": 8,
   "metadata": {},
   "outputs": [
    {
     "name": "stdout",
     "output_type": "stream",
     "text": [
      "Enter numbers: 1\n",
      "Enter numbers: 2\n",
      "Enter numbers: 3\n",
      "Enter numbers: 4\n",
      "Enter numbers: 5\n",
      "Enter numbers: 6\n",
      "Enter numbers: 7\n",
      "Enter numbers: 8\n",
      "Enter numbers: 9\n",
      "Enter numbers: 10\n",
      "['10', '8', '6', '4', '2', '1', '3', '5', '7', '9']\n"
     ]
    }
   ],
   "source": [
    "a = []\n",
    "x = 10\n",
    "while x >0:\n",
    "    n = input(\"Enter numbers: \")\n",
    "   \n",
    "    a.append(n)\n",
    "    x -=1\n",
    "    a.reverse()\n",
    "   \n",
    "print(a)\n",
    "    \n",
    "    "
   ]
  },
  {
   "cell_type": "code",
   "execution_count": 25,
   "metadata": {},
   "outputs": [],
   "source": [
    "#Write a program to find the sum of all elements of a list."
   ]
  },
  {
   "cell_type": "code",
   "execution_count": 2,
   "metadata": {},
   "outputs": [
    {
     "name": "stdout",
     "output_type": "stream",
     "text": [
      "57\n"
     ]
    }
   ],
   "source": [
    "a = 0\n",
    "b = [1, 2, 3, 45, 6]\n",
    "for i in b:\n",
    "    a += i\n",
    "print(a)"
   ]
  },
  {
   "cell_type": "code",
   "execution_count": 10,
   "metadata": {},
   "outputs": [],
   "source": [
    "#Write a program to find the product of all elements of a list."
   ]
  },
  {
   "cell_type": "code",
   "execution_count": 13,
   "metadata": {},
   "outputs": [
    {
     "name": "stdout",
     "output_type": "stream",
     "text": [
      "120\n"
     ]
    }
   ],
   "source": [
    "x = 1\n",
    "y = [1, 2, 3, 4, 5]\n",
    "for i in y:\n",
    "    x *= i\n",
    "print(x)\n",
    "    "
   ]
  },
  {
   "cell_type": "code",
   "execution_count": 19,
   "metadata": {},
   "outputs": [],
   "source": [
    "#Take a list of 10 elements. Split it into middle and store the elements in two dfferent lists. "
   ]
  },
  {
   "cell_type": "code",
   "execution_count": 52,
   "metadata": {},
   "outputs": [
    {
     "name": "stdout",
     "output_type": "stream",
     "text": [
      "[1, 2, 3, 4, 5]\n",
      "[6, 7, 8, 9, 10]\n"
     ]
    }
   ],
   "source": [
    "l1 = [1, 2, 3, 4, 5, 6, 7, 8, 9, 10]\n",
    "\n",
    "l2 = l1[:len(l1)//2:]\n",
    "print(l2)\n",
    "l3 = l1[len(l1)//2:]\n",
    "print(l3)"
   ]
  },
  {
   "cell_type": "code",
   "execution_count": 9,
   "metadata": {},
   "outputs": [],
   "source": [
    "#Write a program to check if elements of a list are same or not it read from front or back."
   ]
  },
  {
   "cell_type": "code",
   "execution_count": 15,
   "metadata": {},
   "outputs": [],
   "source": [
    "def palindrome(a):\n",
    "    if a[::] == a[::-1]:\n",
    "        print(\"TRUE\")"
   ]
  },
  {
   "cell_type": "code",
   "execution_count": 17,
   "metadata": {},
   "outputs": [
    {
     "name": "stdout",
     "output_type": "stream",
     "text": [
      "TRUE\n"
     ]
    }
   ],
   "source": [
    "palindrome([2,3,15,15,3,2])"
   ]
  },
  {
   "cell_type": "code",
   "execution_count": 18,
   "metadata": {},
   "outputs": [
    {
     "name": "stdout",
     "output_type": "stream",
     "text": [
      "TRUE\n"
     ]
    }
   ],
   "source": [
    "palindrome(\"madam\")"
   ]
  },
  {
   "cell_type": "code",
   "execution_count": null,
   "metadata": {},
   "outputs": [],
   "source": []
  }
 ],
 "metadata": {
  "kernelspec": {
   "display_name": "Python 3",
   "language": "python",
   "name": "python3"
  }
 },
 "nbformat": 4,
 "nbformat_minor": 2
}
